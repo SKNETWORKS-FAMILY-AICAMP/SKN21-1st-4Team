{
 "cells": [
  {
   "cell_type": "code",
   "execution_count": 14,
   "id": "1edc4343",
   "metadata": {},
   "outputs": [],
   "source": [
    "import pymysql\n",
    "import pandas as pd"
   ]
  },
  {
   "cell_type": "code",
   "execution_count": null,
   "id": "5ee428f6",
   "metadata": {},
   "outputs": [],
   "source": [
    "def emergency_move_table():\n",
    "    \n",
    "    try:\n",
    "        conn = pymysql.connect(\n",
    "            host='192.168.0.23',\n",
    "            user='first_guest',\n",
    "            password='1234',\n",
    "            db='emergency',\n",
    "            port=3306\n",
    "        )\n",
    "\n",
    "        cursor = conn.cursor()\n",
    "\n",
    "        create_sql = \"\"\"\n",
    "        CREATE TABLE emergency_move (\n",
    "            idx INT AUTO_INCREMENT PRIMARY KEY,\n",
    "            year YEAR NOT NULL,\n",
    "            move_count INT,\n",
    "            move_local VARCHAR(50) NOT NULL\n",
    "        );\n",
    "        \"\"\"\n",
    "\n",
    "        cursor.execute(\"DROP TABLE IF EXISTS emergency_move\")\n",
    "        cursor.execute(create_sql)\n",
    "        conn.commit()\n",
    "\n",
    "    finally:\n",
    "        if conn:\n",
    "            cursor.close()\n",
    "            conn.close()\n"
   ]
  },
  {
   "cell_type": "code",
   "execution_count": null,
   "id": "fd2e433a",
   "metadata": {},
   "outputs": [
    {
     "name": "stdout",
     "output_type": "stream",
     "text": [
      "🚒 전체 응급출동 현황\n",
      "Empty DataFrame\n",
      "Columns: [year, move_local, move_count]\n",
      "Index: []\n",
      "\n",
      "총 데이터 수: 0\n"
     ]
    },
    {
     "name": "stderr",
     "output_type": "stream",
     "text": [
      "C:\\Users\\Playdata\\AppData\\Local\\Temp\\ipykernel_22008\\2623329805.py:17: UserWarning: pandas only supports SQLAlchemy connectable (engine/connection) or database string URI or sqlite3 DBAPI2 connection. Other DBAPI2 objects are not tested. Please consider using SQLAlchemy.\n",
      "  df_all = pd.read_sql(sql_all, conn)\n"
     ]
    }
   ],
   "source": [
    "def move_all():\n",
    "\n",
    "    try:\n",
    "        conn = pymysql.connect(\n",
    "            host='192.168.0.23',\n",
    "            user='first_guest',\n",
    "            password='1234',\n",
    "            db='emergency',\n",
    "            port=3306\n",
    "        )\n",
    "\n",
    "        sql_all = \"\"\"\n",
    "        SELECT year, move_local, move_count\n",
    "        FROM emergency_move\n",
    "        ORDER BY year, move_local;\n",
    "        \"\"\"\n",
    "        df_all = pd.read_sql(sql_all, conn)\n",
    "\n",
    "\n",
    "    finally:\n",
    "        conn.close()\n",
    "    "
   ]
  },
  {
   "cell_type": "code",
   "execution_count": null,
   "id": "620f27ea",
   "metadata": {},
   "outputs": [
    {
     "name": "stdout",
     "output_type": "stream",
     "text": [
      "\n",
      "⚠️  지역의 데이터가 없습니다.\n"
     ]
    },
    {
     "name": "stderr",
     "output_type": "stream",
     "text": [
      "C:\\Users\\Playdata\\AppData\\Local\\Temp\\ipykernel_22008\\247178778.py:19: UserWarning: pandas only supports SQLAlchemy connectable (engine/connection) or database string URI or sqlite3 DBAPI2 connection. Other DBAPI2 objects are not tested. Please consider using SQLAlchemy.\n",
      "  df_region = pd.read_sql(sql_region, conn)\n"
     ]
    }
   ],
   "source": [
    "def move_local(region):\n",
    "    try:\n",
    "        conn = pymysql.connect(\n",
    "            host='192.168.0.23',\n",
    "            user='first_guest',\n",
    "            password='1234',\n",
    "            db='emergency',\n",
    "            port=3306\n",
    "        )\n",
    "\n",
    "        sql_region = f\"\"\"\n",
    "        SELECT year, move_local, move_count\n",
    "        FROM emergency_move\n",
    "        WHERE move_local = '{region}'\n",
    "        ORDER BY year;\n",
    "        \"\"\"\n",
    "        df_region = pd.read_sql(sql_region, conn)\n",
    "\n",
    "    finally:\n",
    "        conn.close()\n"
   ]
  }
 ],
 "metadata": {
  "kernelspec": {
   "display_name": ".venv (3.13.7)",
   "language": "python",
   "name": "python3"
  },
  "language_info": {
   "codemirror_mode": {
    "name": "ipython",
    "version": 3
   },
   "file_extension": ".py",
   "mimetype": "text/x-python",
   "name": "python",
   "nbconvert_exporter": "python",
   "pygments_lexer": "ipython3",
   "version": "3.13.7"
  }
 },
 "nbformat": 4,
 "nbformat_minor": 5
}
