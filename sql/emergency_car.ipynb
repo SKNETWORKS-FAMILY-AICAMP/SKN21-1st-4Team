{
 "cells": [
  {
   "cell_type": "code",
   "execution_count": 10,
   "id": "0bd93a24",
   "metadata": {},
   "outputs": [],
   "source": [
    "import pymysql\n",
    "import pandas as pd"
   ]
  },
  {
   "cell_type": "code",
   "execution_count": null,
   "id": "d9e0576a",
   "metadata": {},
   "outputs": [],
   "source": [
    "def emergency_car_table():\n",
    "    try: \n",
    "        conn = pymysql.connect(\n",
    "            host='192.168.0.23',\n",
    "            user='first_guest',\n",
    "            password='1234',\n",
    "            db='emergency',\n",
    "            port=3306\n",
    "        )\n",
    "\n",
    "        cursor = conn.cursor()\n",
    "\n",
    "        createsql = \"\"\"\n",
    "        CREATE TABLE emergency_car (\n",
    "            idx INT AUTO_INCREMENT PRIMARY KEY,\n",
    "            year YEAR NOT NULL,\n",
    "            car_count INT,\n",
    "            emp_count INT,\n",
    "            car_local VARCHAR(50) NOT NULL\n",
    "        );\n",
    "        \"\"\"\n",
    "        cursor.execute(\"DROP TABLE IF EXISTS emergency_car\")\n",
    "        cursor.execute(createsql)\n",
    "\n",
    "        conn.commit()\n",
    "\n",
    "    finally:\n",
    " \n",
    "        if conn:\n",
    "            cursor.close() \n",
    "            conn.close()   "
   ]
  },
  {
   "cell_type": "code",
   "execution_count": null,
   "id": "a5001784",
   "metadata": {},
   "outputs": [
    {
     "name": "stdout",
     "output_type": "stream",
     "text": [
      "🚑 전체 응급차량 현황\n",
      "   year car_local  car_count  emp_count\n",
      "0  2020     Busan        200        400\n",
      "1  2020     Seoul        150        300\n",
      "2  2021     Busan        220        450\n",
      "3  2021     Seoul        180        350\n",
      "\n",
      "총 데이터 수: 4\n"
     ]
    },
    {
     "name": "stderr",
     "output_type": "stream",
     "text": [
      "C:\\Users\\Playdata\\AppData\\Local\\Temp\\ipykernel_10056\\1603342649.py:20: UserWarning: pandas only supports SQLAlchemy connectable (engine/connection) or database string URI or sqlite3 DBAPI2 connection. Other DBAPI2 objects are not tested. Please consider using SQLAlchemy.\n",
      "  df_all = pd.read_sql(sql_all, conn)\n"
     ]
    }
   ],
   "source": [
    "def car_all():\n",
    "\n",
    "    try:\n",
    "        conn = pymysql.connect(\n",
    "            host='192.168.0.23',\n",
    "            user='first_guest',\n",
    "            password='1234',\n",
    "            db='emergency',\n",
    "            port=3306\n",
    "        )\n",
    "\n",
    "    \n",
    "    # 전체 데이터 조회\n",
    "        sql_all = \"\"\"\n",
    "        SELECT year, car_local, car_count, emp_count \n",
    "        FROM emergency_car \n",
    "        ORDER BY year, car_local;\n",
    "        \"\"\"\n",
    "        df_all = pd.read_sql(sql_all, conn)\n",
    "\n",
    "    finally:\n",
    "        conn.close()"
   ]
  },
  {
   "cell_type": "code",
   "execution_count": null,
   "id": "c06252b3",
   "metadata": {},
   "outputs": [],
   "source": [
    "def car_local(region):\n",
    "\n",
    "    conn = pymysql.connect(\n",
    "            host='192.168.0.23',\n",
    "            user='first_guest',\n",
    "            password='1234',\n",
    "            db='emergency',\n",
    "            port=3306\n",
    "        )\n",
    "\n",
    "    try:\n",
    "        # 지역별 데이터 조회\n",
    "        sql_region = f\"\"\"\n",
    "        SELECT year, car_local, car_count, emp_count\n",
    "        FROM emergency_car\n",
    "        WHERE car_local = '{region}'\n",
    "        ORDER BY year;\n",
    "        \"\"\"\n",
    "        df_region = pd.read_sql(sql_region, conn)\n",
    "\n",
    "    finally:\n",
    "        conn.close()\n"
   ]
  }
 ],
 "metadata": {
  "kernelspec": {
   "display_name": ".venv (3.13.7)",
   "language": "python",
   "name": "python3"
  },
  "language_info": {
   "codemirror_mode": {
    "name": "ipython",
    "version": 3
   },
   "file_extension": ".py",
   "mimetype": "text/x-python",
   "name": "python",
   "nbconvert_exporter": "python",
   "pygments_lexer": "ipython3",
   "version": "3.13.7"
  }
 },
 "nbformat": 4,
 "nbformat_minor": 5
}
