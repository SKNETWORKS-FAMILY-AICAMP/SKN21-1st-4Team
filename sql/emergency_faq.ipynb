{
 "cells": [
  {
   "cell_type": "code",
   "execution_count": 1,
   "id": "863ee159",
   "metadata": {},
   "outputs": [],
   "source": [
    "import pymysql\n",
    "import pandas as pd"
   ]
  },
  {
   "cell_type": "code",
   "execution_count": null,
   "id": "3ff51bc1",
   "metadata": {},
   "outputs": [],
   "source": [
    "def emergency_faq_table():\n",
    "\n",
    "    try:\n",
    "        conn = pymysql.connect(\n",
    "            host='192.168.0.23',\n",
    "            user='first_guest',\n",
    "            password='1234',\n",
    "            db='emergency',\n",
    "            port=3306\n",
    "        )\n",
    "        cursor = conn.cursor()\n",
    "\n",
    "        create_sql = \"\"\"\n",
    "        CREATE TABLE emergency_faq (\n",
    "            idx INT AUTO_INCREMENT PRIMARY KEY,\n",
    "            faq_question VARCHAR(255) NOT NULL,\n",
    "            faq_answer VARCHAR(255) NOT NULL\n",
    "        );\n",
    "        \"\"\"\n",
    "\n",
    "        cursor.execute(\"DROP TABLE IF EXISTS emergency_faq\")\n",
    "        cursor.execute(create_sql)\n",
    "        conn.commit()\n",
    "\n",
    "\n",
    "    finally:\n",
    "        if conn:\n",
    "            cursor.close()\n",
    "            conn.close()\n",
    "\n",
    "emergency_faq_table()\n"
   ]
  },
  {
   "cell_type": "code",
   "execution_count": null,
   "id": "d20c14dc",
   "metadata": {},
   "outputs": [],
   "source": [
    "def faq_all():\n",
    "\n",
    "    try:\n",
    "        conn = pymysql.connect(\n",
    "            host='192.168.0.23',\n",
    "            user='first_guest',\n",
    "            password='1234',\n",
    "            db='emergency',\n",
    "            port=3306\n",
    "        )\n",
    "\n",
    "        sql_all = \"\"\"\n",
    "        SELECT idx, faq_question, faq_answer\n",
    "        FROM emergency_faq\n",
    "        ORDER BY idx;\n",
    "        \"\"\"\n",
    "        df_all = pd.read_sql(sql_all, conn)\n",
    "\n",
    "        print(\"💬 전체 FAQ 데이터\")\n",
    "        print(df_all)\n",
    "        print(\"\\n총 질문 수:\", len(df_all))\n",
    "\n",
    "    finally:\n",
    "        conn.close()\n",
    "        \n",
    "faq_all()"
   ]
  },
  {
   "cell_type": "code",
   "execution_count": null,
   "id": "b8a51197",
   "metadata": {},
   "outputs": [],
   "source": [
    "# def faq_검색():\n",
    "\n",
    "#     try:\n",
    "#         conn = pymysql.connect(\n",
    "#             host='127.0.0.1',\n",
    "#             user='root',\n",
    "#             password='1111',\n",
    "#             db='1st',\n",
    "#             port=3306,\n",
    "#             charset='utf8'\n",
    "#         )\n"
   ]
  }
 ],
 "metadata": {
  "kernelspec": {
   "display_name": ".venv (3.13.7)",
   "language": "python",
   "name": "python3"
  },
  "language_info": {
   "codemirror_mode": {
    "name": "ipython",
    "version": 3
   },
   "file_extension": ".py",
   "mimetype": "text/x-python",
   "name": "python",
   "nbconvert_exporter": "python",
   "pygments_lexer": "ipython3",
   "version": "3.13.7"
  }
 },
 "nbformat": 4,
 "nbformat_minor": 5
}
