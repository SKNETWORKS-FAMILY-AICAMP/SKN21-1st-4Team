{
 "cells": [
  {
   "cell_type": "code",
   "execution_count": 1,
   "id": "91197603",
   "metadata": {},
   "outputs": [],
   "source": [
    "import pymysql\n",
    "import pandas as pd"
   ]
  },
  {
   "cell_type": "code",
   "execution_count": 6,
   "id": "b8407497",
   "metadata": {},
   "outputs": [],
   "source": [
    "def emergency_ex_table():\n",
    "    \n",
    "    try:\n",
    "        conn = pymysql.connect(\n",
    "            host='192.168.0.23',\n",
    "            user='first_guest',\n",
    "            password='1234',\n",
    "            db='emergency',\n",
    "            port=3306\n",
    "        )\n",
    "\n",
    "        cursor = conn.cursor()\n",
    "\n",
    "        create_sql = \"\"\"\n",
    "        CREATE TABLE emergency_ex (\n",
    "            idx INT AUTO_INCREMENT PRIMARY KEY,\n",
    "            year YEAR NOT NULL,\n",
    "            cause VARCHAR(50),\n",
    "            gender VARCHAR(10),\n",
    "            local VARCHAR(50),\n",
    "            job VARCHAR(50)\n",
    "        );\n",
    "        \"\"\"\n",
    "\n",
    "        cursor.execute(\"DROP TABLE IF EXISTS emergency_ex\")\n",
    "        cursor.execute(create_sql)\n",
    "        conn.commit()\n",
    "\n",
    "    finally:\n",
    "        if conn:\n",
    "            cursor.close()\n",
    "            conn.close()\n",
    "\n",
    "emergency_ex_table()"
   ]
  },
  {
   "cell_type": "code",
   "execution_count": 7,
   "id": "00f181ac",
   "metadata": {},
   "outputs": [
    {
     "name": "stdout",
     "output_type": "stream",
     "text": [
      "🚑 전체 응급 사례 데이터\n",
      "Empty DataFrame\n",
      "Columns: [year, local, cause, gender, job]\n",
      "Index: []\n",
      "\n",
      "총 데이터 수: 0\n"
     ]
    },
    {
     "name": "stderr",
     "output_type": "stream",
     "text": [
      "C:\\Users\\Playdata\\AppData\\Local\\Temp\\ipykernel_24528\\3703096715.py:17: UserWarning: pandas only supports SQLAlchemy connectable (engine/connection) or database string URI or sqlite3 DBAPI2 connection. Other DBAPI2 objects are not tested. Please consider using SQLAlchemy.\n",
      "  df_all = pd.read_sql(sql_all, conn)\n"
     ]
    }
   ],
   "source": [
    "def ex_all():\n",
    "      \n",
    "    try:\n",
    "        conn = pymysql.connect(\n",
    "            host='192.168.0.23',\n",
    "            user='first_guest',\n",
    "            password='1234',\n",
    "            db='emergency',\n",
    "            port=3306\n",
    "        )\n",
    "\n",
    "        sql_all = \"\"\"\n",
    "        SELECT year, local, cause, gender, job\n",
    "        FROM emergency_ex\n",
    "        ORDER BY year, local;\n",
    "        \"\"\"\n",
    "        df_all = pd.read_sql(sql_all, conn)\n",
    "\n",
    "        print(\"🚑 전체 응급 사례 데이터\")\n",
    "        print(df_all)\n",
    "        print(\"\\n총 데이터 수:\", len(df_all))\n",
    "\n",
    "    finally:\n",
    "        conn.close()\n",
    "\n",
    "ex_all()\n"
   ]
  },
  {
   "cell_type": "code",
   "execution_count": null,
   "id": "7074807a",
   "metadata": {},
   "outputs": [],
   "source": [
    "def ex_local():\n",
    "\n",
    "    try:\n",
    "        conn = pymysql.connect(\n",
    "            host='192.168.0.23',\n",
    "            user='first_guest',\n",
    "            password='1234',\n",
    "            db='emergency',\n",
    "            port=3306\n",
    "        )\n",
    "\n",
    "        region = input(\"조회할 지역을 입력하세요 : \")\n",
    "\n",
    "        sql_region = f\"\"\"\n",
    "        SELECT year, local, cause, gender, job\n",
    "        FROM emergency_ex\n",
    "        WHERE local = '{region}'\n",
    "        ORDER BY year;\n",
    "        \"\"\"\n",
    "        df_region = pd.read_sql(sql_region, conn)\n",
    "\n",
    "        if len(df_region) > 0:\n",
    "            print(f\"\\n📍 {region} 지역 응급 사례 데이터\")\n",
    "            print(df_region)\n",
    "            print(f\"\\n{region} 지역 데이터 수:\", len(df_region))\n",
    "        else:\n",
    "            print(f\"\\n⚠️ {region} 지역의 데이터가 없습니다.\")\n",
    "        \n",
    "    finally:\n",
    "        conn.close()\n",
    "        \n",
    "ex_local()\n"
   ]
  }
 ],
 "metadata": {
  "kernelspec": {
   "display_name": ".venv (3.13.7)",
   "language": "python",
   "name": "python3"
  },
  "language_info": {
   "codemirror_mode": {
    "name": "ipython",
    "version": 3
   },
   "file_extension": ".py",
   "mimetype": "text/x-python",
   "name": "python",
   "nbconvert_exporter": "python",
   "pygments_lexer": "ipython3",
   "version": "3.13.7"
  }
 },
 "nbformat": 4,
 "nbformat_minor": 5
}
